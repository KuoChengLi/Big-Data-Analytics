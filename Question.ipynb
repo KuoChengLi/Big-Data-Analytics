{
 "cells": [
  {
   "cell_type": "markdown",
   "metadata": {},
   "source": [
    "(1) 哪些屬性對於惡意程式分類有效？\n",
    "--------------------------------------"
   ]
  },
  {
   "cell_type": "markdown",
   "metadata": {},
   "source": [
    "section_names_header  <br />\n",
    "ent_q_diffs_var<br />\n",
    "ent_q_diff_diffs_1_median<br />\n",
    "ent_q_diff_diffs_2_min<br />\n",
    "dc_por<br />\n",
    "ent_p_7<br />\n",
    "ent_p_8<br />\n",
    "FreeEnvironmentStringsW<br />\n",
    "db3_rdata<br />\n",
    "ent_p_12<br />"
   ]
  },
  {
   "cell_type": "markdown",
   "metadata": {},
   "source": [
    "(2) 哪些屬性對於惡意程式分類無效？\n",
    "--"
   ]
  },
  {
   "cell_type": "markdown",
   "metadata": {},
   "source": [
    "ProcCallEngine<br />\n",
    "PCCTL_CONTEXT<br />\n",
    "*invalid*<br />\n",
    "misc_market<br />\n",
    "MethCallEngine<br />\n",
    "fstcwimul<br />"
   ]
  },
  {
   "cell_type": "markdown",
   "metadata": {},
   "source": [
    "(3) 用什麼方法可以幫助你決定上述的結論？\n",
    "--"
   ]
  },
  {
   "cell_type": "markdown",
   "metadata": {},
   "source": [
    "應用scikit-learn中的ExtraTreesClassifier，計算出各屬性的gini值並比較屬性對於目標類別重要性。"
   ]
  },
  {
   "cell_type": "markdown",
   "metadata": {},
   "source": [
    "(4) 透過Python哪些套件以及方法可以幫助你完成上面的工作？\n",
    "--"
   ]
  },
  {
   "cell_type": "markdown",
   "metadata": {},
   "source": [
    "numpy, matplotlib.pyplot, pandas, sklearn"
   ]
  }
 ],
 "metadata": {
  "kernelspec": {
   "display_name": "Python [default]",
   "language": "python",
   "name": "python2"
  },
  "language_info": {
   "codemirror_mode": {
    "name": "ipython",
    "version": 2
   },
   "file_extension": ".py",
   "mimetype": "text/x-python",
   "name": "python",
   "nbconvert_exporter": "python",
   "pygments_lexer": "ipython2",
   "version": "2.7.12"
  }
 },
 "nbformat": 4,
 "nbformat_minor": 1
}
